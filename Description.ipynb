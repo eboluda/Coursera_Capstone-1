{
    "cells": [
        {
            "cell_type": "markdown",
            "metadata": {
                "collapsed": true
            },
            "source": "# The Battle of Neighborhoods | Data Description"
        },
        {
            "cell_type": "markdown",
            "metadata": {},
            "source": "## Data Scrapping from Wikipedia"
        },
        {
            "cell_type": "markdown",
            "metadata": {},
            "source": "This dataset consist location information and zip codes.\n<a href=\"https://en.wikipedia.org/wiki/List_of_postal_codes_of_Canada:_M\" >Link to Data</a>\n\n"
        },
        {
            "cell_type": "markdown",
            "metadata": {},
            "source": "## Foursquare API"
        },
        {
            "cell_type": "markdown",
            "metadata": {},
            "source": "Foursquare provides location data and location various features. Byusing foursquare API we can get various venues, places, shops, etc..\n\nIt provides tips, photos,ratings etc... so we can get the location details by using releant latitude and longitude with required radius.\n\nwe can get :\n<ol>\n    <li>venue Latitude</li>\n    <li>venue Longitude</li>\n    <li>Name of the Venues</li>\n    <li>Category</li>\n    <li>photos</li>\n    <li>tips</li>\n    <li>neighborhood</li>\n    <li>trending etc..</li>\n</ol>"
        },
        {
            "cell_type": "code",
            "execution_count": null,
            "metadata": {},
            "outputs": [],
            "source": ""
        }
    ],
    "metadata": {
        "kernelspec": {
            "display_name": "Python 3.7",
            "language": "python",
            "name": "python3"
        },
        "language_info": {
            "codemirror_mode": {
                "name": "ipython",
                "version": 3
            },
            "file_extension": ".py",
            "mimetype": "text/x-python",
            "name": "python",
            "nbconvert_exporter": "python",
            "pygments_lexer": "ipython3",
            "version": "3.7.9"
        }
    },
    "nbformat": 4,
    "nbformat_minor": 1
}