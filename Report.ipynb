{
    "cells": [
        {
            "cell_type": "markdown",
            "metadata": {
                "collapsed": true
            },
            "source": "# Capstone Project - The Battle of Neighborhoods-To find a better Neighborhood places for people while Migration."
        },
        {
            "cell_type": "markdown",
            "metadata": {},
            "source": "## 1. Introduction"
        },
        {
            "cell_type": "markdown",
            "metadata": {},
            "source": "The scope of this project is to find out the best neighborhood among the other neighborhoods. \n\nMigrating from one place to another place is unavoidable for peoples. Peoples are migrating from one place to another place for various purposes. \n\nThis project scope is to help people to find the best place to migrate efficiently as well as economically with neighborhood details and to get various essetial facilities for daily life Scarborough, Toranto.\n"
        },
        {
            "cell_type": "markdown",
            "metadata": {},
            "source": "# 2. Data Section"
        },
        {
            "cell_type": "markdown",
            "metadata": {},
            "source": "## Data Scrapping from Wikipedia"
        },
        {
            "cell_type": "markdown",
            "metadata": {},
            "source": "This dataset consist location information and zip codes.\n<a href=\"https://en.wikipedia.org/wiki/List_of_postal_codes_of_Canada:_M\" >Link to Data</a>\n\n"
        },
        {
            "cell_type": "markdown",
            "metadata": {},
            "source": "## Foursquare API"
        },
        {
            "cell_type": "markdown",
            "metadata": {},
            "source": "Foursquare provides location data and location various features. Byusing foursquare API we can get various venues, places, shops, etc..\n\nIt provides tips, photos,ratings etc... so we can get the location details by using releant latitude and longitude with required radius.\n\nwe can get :\n<ol>\n    <li>venue Latitude</li>\n    <li>venue Longitude</li>\n    <li>Name of the Venues</li>\n    <li>Category</li>\n    <li>photos</li>\n    <li>tips</li>\n    <li>neighborhood</li>\n    <li>trending etc..</li>\n</ol>"
        },
        {
            "cell_type": "markdown",
            "metadata": {},
            "source": "# 3.Methodology Section"
        },
        {
            "cell_type": "markdown",
            "metadata": {},
            "source": "clustering and segmentation methodology is used"
        },
        {
            "cell_type": "markdown",
            "metadata": {},
            "source": "# 4.Result section"
        },
        {
            "cell_type": "markdown",
            "metadata": {},
            "source": "Maps of the Scarborough"
        },
        {
            "cell_type": "markdown",
            "metadata": {},
            "source": "# 5.Discussion Section"
        },
        {
            "cell_type": "markdown",
            "metadata": {},
            "source": "## My Approach on this Business Problem to Solve."
        },
        {
            "cell_type": "markdown",
            "metadata": {},
            "source": "The main aim of this project is resolve the issues and confusions on making decision on choosing the best neighborhood for migrating peoples.\n\n1. Providing various list of data to find a best place to Reside.\n2. Providing various essential services for daily life"
        },
        {
            "cell_type": "markdown",
            "metadata": {},
            "source": "# API"
        },
        {
            "cell_type": "markdown",
            "metadata": {},
            "source": "## Foursquare API"
        },
        {
            "cell_type": "markdown",
            "metadata": {},
            "source": "In this project Foursquare API is used to get the details of the places by venue search, various Facilities available in the searched expecting area."
        },
        {
            "cell_type": "markdown",
            "metadata": {},
            "source": "## Segmetation and Clustering Approach"
        },
        {
            "cell_type": "markdown",
            "metadata": {},
            "source": "In this approach we can get the best neighborhood by their similiarity of their palces. so, clustering the data by using the Machine Learning on K-means clustering algorithm. By this approach we can solve this problem and we can provide better neighborhood for peoples "
        },
        {
            "cell_type": "markdown",
            "metadata": {},
            "source": "# 6.Conclusion Section"
        },
        {
            "cell_type": "markdown",
            "metadata": {},
            "source": "\n\nIn this project, using foursquare API we find out the better neighbourhoods for  migrating peoples with various venue ratings."
        },
        {
            "cell_type": "markdown",
            "metadata": {},
            "source": "## Required Libraries for this Project"
        },
        {
            "cell_type": "markdown",
            "metadata": {},
            "source": "<ul>\n    <li>numpy        : To handle multi-dimensional array and matrix data structures.</li>\n    <li>pandas       : To handle the various Dataframes</li>\n    <li>matplotlib   : To plot the various Graphs</li>\n    <li>JSON         : To handle the json files</li>\n    <li>scikitlearn  : To execute  the k-means clustering</li>\n    <li>GeoCoder     : To get the location informations</li>\n    <li>Folium       : To visualize the neighborhood by interactive map</li>\n    <li>BeautifulSoup: To handle the requests</li>\n</ul>"
        },
        {
            "cell_type": "code",
            "execution_count": null,
            "metadata": {},
            "outputs": [],
            "source": ""
        }
    ],
    "metadata": {
        "kernelspec": {
            "display_name": "Python 3.7",
            "language": "python",
            "name": "python3"
        },
        "language_info": {
            "codemirror_mode": {
                "name": "ipython",
                "version": 3
            },
            "file_extension": ".py",
            "mimetype": "text/x-python",
            "name": "python",
            "nbconvert_exporter": "python",
            "pygments_lexer": "ipython3",
            "version": "3.7.9"
        }
    },
    "nbformat": 4,
    "nbformat_minor": 1
}